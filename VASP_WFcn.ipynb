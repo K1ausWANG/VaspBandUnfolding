{
 "cells": [
  {
   "cell_type": "markdown",
   "metadata": {},
   "source": [
    "# VASP WAVECAR分析  \n",
    "首先从[GitHub](https://github.com/QijingZheng/VaspBandUnfolding)Fork了已有的库，目前仅需要其中的`vaspwfc`模块中的`vaspwfc`类。在一开始import所需要的部分即可。  \n",
    "`from vaspwfc impoirt vaspwfc`  "
   ]
  },
  {
   "cell_type": "code",
   "execution_count": 1,
   "metadata": {},
   "outputs": [],
   "source": [
    "import numpy as np\n",
    "import matplotlib.pyplot as plt \n",
    "import os \n",
    "\n",
    "from vaspwfc import vaspwfc"
   ]
  },
  {
   "cell_type": "markdown",
   "metadata": {},
   "source": [
    "利用Bulk Graphene的WAVECAR生成类。路径Example_Klaus/WAVECAR。  \n",
    "`vaspwfc(fnm='WAVECAR', lsorbit=False, lgamma=False,gamma_half='x', omp_num_threads=1)`  \n",
    "- `fnm`:filename of WAVECAR, you could use the relative path representation, e.g. './Example/WAVECAR'  \n",
    "- 针对Gamma Only的WAVECAR，需要将`lgamma`设置为`True`\n",
    "```python\n",
    "# For VASP <= 5.2.x, check\n",
    "# which FFT VASP uses by the following command:\n",
    "#\n",
    "#     $ grep 'use.* FFT for wave' OUTCAR\n",
    "#\n",
    "# Then\n",
    "#\n",
    "#     # for parallel FFT, VASP <= 5.2.x\n",
    "#     pswfc = vaspwfc('WAVECAR', lgamma=True, gamma_half='z')\n",
    "#\n",
    "#     # for serial FFT, VASP <= 5.2.x\n",
    "#     pswfc = vaspwfc('WAVECAR', lgamma=True, gamma_half='x')\n",
    "#\n",
    "# For VASP >= 5.4, WAVECAR is written with x-direction half grid regardless of\n",
    "# parallel or serial FFT.\n",
    "#\n",
    "#     # \"gamma_half\" default to \"x\" for VASP >= 5.4\n",
    "#     pswfc = vaspwfc('WAVECAR', lgamma=True, gamma_half='x')\n",
    "```\n",
    "本次计算中使用的是VASP 5.4.4，因此不需要考虑这个参数的问题。 \n",
    "- `lsorbit`针对non-collinear计算需要设置为`True`，一般情况下设置为`False`，SOC开启的情况下是否需要设置为True？"
   ]
  },
  {
   "cell_type": "code",
   "execution_count": 2,
   "metadata": {},
   "outputs": [
    {
     "name": "stdout",
     "output_type": "stream",
     "text": [
      "No. K-POINTS:  120 \n",
      "No. Bands:   48 \n",
      "ENCUT: 600.00\n"
     ]
    }
   ],
   "source": [
    "filename = \"./Example_Klaus/WAVECAR\"\n",
    "wav = vaspwfc(filename)\n",
    "print(\"No. K-POINTS: {:4d} \\nNo. Bands: {:4d} \\nENCUT: {:6.2f}\".format(wav._nkpts,wav._nbands,wav._encut))"
   ]
  },
  {
   "attachments": {},
   "cell_type": "markdown",
   "metadata": {},
   "source": [
    "`gvectors(ikpt=1, force_Gamma=False, check_consistency=True)`方法可以根据输入的`ikpt`(k点的索引)，生成所有满足(G + k)**2 / 2 < ENCUT的G-vectors。所有的k点坐标可以通过调用`_kvecs`属性查看。首先将所有计算的K-point输出到`KPT`文件中"
   ]
  },
  {
   "cell_type": "code",
   "execution_count": 3,
   "metadata": {},
   "outputs": [],
   "source": [
    "#写入K points以及相应index信息\n",
    "\n",
    "f = open(os.path.join(wav._dname,\"kpt.txt\"),'w')\n",
    "f.write(\"ikpt \\t K-vectors\\n\" + \"-\"*30 + \"\\n\")\n",
    "\n",
    "for index in range(wav._nkpts):\n",
    "    msg = str(index+1) + '\\t' + \"\\t\".join([str(component) for component in wav._kvecs[index,:]]) + \"\\n\"\n",
    "    f.write(msg)\n",
    "f.close()"
   ]
  },
  {
   "attachments": {},
   "cell_type": "markdown",
   "metadata": {},
   "source": [
    "通过`readBandCoeff(ispin=1, ikpt=1, iband=1, norm=False)`可以提取出需要的态，例如选择`ikpt=1`,`iband=1`,`norm=False`，提取的是Gamma点能量最低态的Cg. "
   ]
  },
  {
   "cell_type": "code",
   "execution_count": 4,
   "metadata": {},
   "outputs": [
    {
     "data": {
      "text/plain": [
       "array([[ 0,  0,  0],\n",
       "       [ 1,  0,  0],\n",
       "       [ 2,  0,  0],\n",
       "       ...,\n",
       "       [-3, -1, -1],\n",
       "       [-2, -1, -1],\n",
       "       [-1, -1, -1]])"
      ]
     },
     "execution_count": 4,
     "metadata": {},
     "output_type": "execute_result"
    }
   ],
   "source": [
    "wav.readBandCoeff(ispin=1, ikpt=1, iband=1, norm=False)\n",
    "wav.gvectors(ikpt=1,force_Gamma=False)"
   ]
  },
  {
   "cell_type": "code",
   "execution_count": 11,
   "metadata": {},
   "outputs": [],
   "source": [
    "def output_gvector_Cg(ikpt=1, iband=1, norm=False, fnm=None,fpath=None):\n",
    "    \"\"\"将计算得到的gvectors和Cg按照行输出到文件夹中\n",
    "    \"\"\"\n",
    "\n",
    "    #Filename format: C_{index of band}-{index of kpoint}.txt \n",
    "    if not fnm:\n",
    "        fnm=\"C_\" + str(iband) + \"-\" +str(ikpt) + \".txt\"\n",
    "    \n",
    "    if not fpath:\n",
    "        fpath=\".\"\n",
    "    f = open(os.path.join(fpath, fnm),'w') \n",
    "    header_msg = \"# Coefficients of wavefunction for ikpt={:d}\\tiband={:d}\\n\".format(ikpt,iband)\n",
    "    f.write(header_msg)\n",
    "\n",
    "    # Generate G vectors and Cg\n",
    "    Gvectors = wav.gvectors(ikpt,force_Gamma=False)\n",
    "    Cg = wav.readBandCoeff(ispin=1, ikpt=1, iband=1, norm=False)\n",
    "\n",
    "    for iG,G in enumerate(Gvectors):\n",
    "        msg = \"\\t\".join([\" \".join([str(Gx) for Gx in G]), str(np.real(Cg[iG])), str(np.imag(Cg[iG])),\"\\n\"])\n",
    "        f.write(msg)\n",
    "    \n",
    "    f.close()\n",
    "    \n",
    "output_gvector_Cg(fpath=wav._dname)"
   ]
  }
 ],
 "metadata": {
  "kernelspec": {
   "display_name": "Python 3.8.8 ('base')",
   "language": "python",
   "name": "python3"
  },
  "language_info": {
   "codemirror_mode": {
    "name": "ipython",
    "version": 3
   },
   "file_extension": ".py",
   "mimetype": "text/x-python",
   "name": "python",
   "nbconvert_exporter": "python",
   "pygments_lexer": "ipython3",
   "version": "3.8.8"
  },
  "orig_nbformat": 4,
  "vscode": {
   "interpreter": {
    "hash": "6b8c07e429c9afbc8cc984dc529d1a5c33c9f3c071468082db0ec6df6b7b80ea"
   }
  }
 },
 "nbformat": 4,
 "nbformat_minor": 2
}
